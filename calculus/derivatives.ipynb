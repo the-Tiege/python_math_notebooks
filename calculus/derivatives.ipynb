{
 "cells": [
  {
   "cell_type": "markdown",
   "metadata": {
    "pycharm": {
     "name": "#%% md\n"
    }
   },
   "source": [
    "# Calculus: Derivatives"
   ]
  },
  {
   "cell_type": "markdown",
   "metadata": {
    "pycharm": {
     "name": "#%% md\n"
    }
   },
   "source": [
    "### Symbolic calculation of the derivative\n",
    "\n",
    "Differentiation for this exercise was carried out using the power rule: $ax^n$ becomes $nax^{n-1}$.<br>\n",
    "The polynomial expression is represented as a list of tuples with the first value of each tuple representing a coefficient and the second representing an exponent.<br>\n",
    "For example the list [(a, 2),  (b, 1), (c, 0)] is implied to be $ax^2 + bx + c$."
   ]
  },
  {
   "cell_type": "code",
   "execution_count": 2,
   "metadata": {
    "pycharm": {
     "name": "#%%\n"
    }
   },
   "outputs": [],
   "source": [
    "def calculate_derivative(polynomial: list):\n",
    "    \"\"\"\n",
    "    AIM: Calculates the first order derivative of the polynomial passed to it as an argument.\n",
    "    ARGUMENTS:This function accepts a list  of tuples as the argument.\n",
    "              The first value of the tuple is the coefficient and  the second is the exponent.\n",
    "              Constants are represented with an exponent value of zero.\n",
    "    ACTION: Iterates through the polynomial and differentiates using the power rule.\n",
    "    RETURN: The output of the function is a list of tuples that represents the first order derivative\n",
    "             of the input.\n",
    "    \"\"\"\n",
    "    \n",
    "    derivative = []\n",
    "    \n",
    "    # Iterates through the list. \n",
    "    # Differentiates the expression by multiplying the coefficient by the exponent and then\n",
    "    # reducing the exponent by one.\n",
    "    # If the valve of the exponent is zero, the tuple represents a constant \n",
    "    # and is removed from the expression.\n",
    "    # These values are appended to the derivative list as a tuple.\n",
    "    \n",
    "    for coefficient, exponent in polynomial:\n",
    "        if exponent > 0:\n",
    "            coefficient *= exponent\n",
    "            exponent -= 1\n",
    "            derivative.append((coefficient, exponent))\n",
    "\n",
    "    return derivative\n"
   ]
  },
  {
   "cell_type": "code",
   "execution_count": 3,
   "metadata": {
    "pycharm": {
     "name": "#%%\n"
    }
   },
   "outputs": [],
   "source": [
    "def polynomial_to_string(polynomial: list):\n",
    "    \"\"\"\n",
    "    AIM: Represent an entered polynomial list as a string in the form ax^2 + bx + c.\n",
    "    ARGUMENTS:This function accepts a list  of tuples as the argument.\n",
    "    ACTION: Converts list to string using conditional statements.\n",
    "    RETURN: String in the form ax^2 + bx + c.\n",
    "    \"\"\"\n",
    "    \n",
    "    polynomial_string = []\n",
    "    operator = \"\"\n",
    "    first = True # boolean flag to identify the first element in the list.\n",
    "    \n",
    "    for x, power in polynomial:\n",
    "\n",
    "        # This conditional dictates the operator placed between\n",
    "        # each element of the polynomial.\n",
    "        # The element ignores this block.\n",
    "        if not first:\n",
    "            if x < 0:\n",
    "                # Makes the number positive and sets the operator to '-'.\n",
    "                x *= -1\n",
    "                operator = \"- \"\n",
    "            else:\n",
    "                # Sets the operator to '+'.\n",
    "                operator= \"+ \"\n",
    "\n",
    "        # Logic to determine if the element has an exponent or is a constant.\n",
    "        if power == 1:\n",
    "            polynomial_string.append(f\"{operator}{x}x\")\n",
    "        elif power == 0:\n",
    "            polynomial_string.append(f\"{operator}{x}\")\n",
    "        else:\n",
    "            polynomial_string.append(f\"{operator}{x}x^{power}\")\n",
    "        first = False\n",
    "              \n",
    "    # Joins the elements of the polynomial with a space (\" \") between them .\n",
    "    return \" \".join(polynomial_string)\n",
    "        "
   ]
  },
  {
   "cell_type": "code",
   "execution_count": 4,
   "metadata": {
    "pycharm": {
     "name": "#%%\n"
    }
   },
   "outputs": [],
   "source": [
    "def evaluate_polynomial(polynomial: list, x_value):\n",
    "    \"\"\"\n",
    "    AIM: Evaluates the entered polynomial for the entered value of x.\n",
    "    ARGUMENTS: A list of tuples to represent a polynomial (polynomial) and an int or a float value for x (x_value).\n",
    "    ACTION: Iterates through the list carrying out calculations based on the entered x_value.\n",
    "    RETURN: The total sum of the polynomial for the given x_value.\n",
    "    \"\"\"\n",
    "    evaluation = 0\n",
    "    \n",
    "    for coefficient, power in polynomial:\n",
    "        evaluation += (coefficient * x_value**power)\n",
    "        \n",
    "    return evaluation\n",
    "                        "
   ]
  },
  {
   "cell_type": "code",
   "execution_count": 5,
   "metadata": {
    "pycharm": {
     "name": "#%%\n"
    }
   },
   "outputs": [],
   "source": [
    "def evaluate_derivative(polynomial: list, x_value):\n",
    "    \"\"\"\n",
    "    AIM: Takes a polynomial and a given x value calculates the first order derivative\n",
    "         and evaluates for the given x_value.\n",
    "    ARGUMENTS: A list of tuples to represent the polynomial (polynomial) and an int or a float\n",
    "               as a value for x (x_value).\n",
    "    ACTION: Uses the calculate_derivative function to calculate the first order derivative.\n",
    "            Uses the evaluate_polynomial function to evaluate for x.\n",
    "    RETURN: The total sum of the polynomial for the given x_value.\n",
    "    \"\"\"\n",
    "    derivative = calculate_derivative(polynomial)\n",
    "    \n",
    "    return evaluate_polynomial(derivative, x_value)\n",
    "    "
   ]
  },
  {
   "cell_type": "markdown",
   "metadata": {
    "pycharm": {
     "name": "#%% md\n"
    }
   },
   "source": [
    "##### Test 1\n",
    "\n",
    "Test list entered as [(5, 3), (7, 2), (3, 1), (6, 0)]<br>\n",
    "This represents the equation: $5x^3 + 7x^2 + 3x + 6$<br>\n",
    "The Derivative was calculated as: $(5*3)x^{3-1} + (7*2)x^{2-1} + (3*1)x^{1-1} + (6*0)x^{0-1}$ -> $15x^2 + 14x + 3$<br>\n",
    "With x equal to two the expression was evaluated as: $15(2)^2 + 14(2) + 3$ -> $91$"
   ]
  },
  {
   "cell_type": "code",
   "execution_count": 6,
   "metadata": {
    "pycharm": {
     "name": "#%%\n"
    }
   },
   "outputs": [],
   "source": [
    "test_polynomial = [(5, 3), (7, 2), (3, 1), (6, 0)]\n",
    "# 5x3 + 7x2 + 3x + 6\n",
    "# Derivative : 15x^2 + 14x + 3"
   ]
  },
  {
   "cell_type": "code",
   "execution_count": 7,
   "metadata": {
    "pycharm": {
     "name": "#%%\n"
    }
   },
   "outputs": [
    {
     "name": "stdout",
     "output_type": "stream",
     "text": [
      "[(15, 2), (14, 1), (3, 0)]\n"
     ]
    }
   ],
   "source": [
    "derivative = calculate_derivative(test_polynomial)\n",
    "print(derivative)"
   ]
  },
  {
   "cell_type": "code",
   "execution_count": 8,
   "metadata": {
    "pycharm": {
     "name": "#%%\n"
    }
   },
   "outputs": [
    {
     "name": "stdout",
     "output_type": "stream",
     "text": [
      "15x^2 + 14x + 3\n"
     ]
    }
   ],
   "source": [
    "derivative_string = polynomial_to_string(derivative)\n",
    "print(derivative_string)"
   ]
  },
  {
   "cell_type": "code",
   "execution_count": 9,
   "metadata": {
    "pycharm": {
     "name": "#%%\n"
    }
   },
   "outputs": [
    {
     "name": "stdout",
     "output_type": "stream",
     "text": [
      "91\n"
     ]
    }
   ],
   "source": [
    "evaluation = evaluate_derivative(test_polynomial, 2)\n",
    "# Calculation:91\n",
    "print(evaluation)"
   ]
  },
  {
   "cell_type": "markdown",
   "metadata": {
    "pycharm": {
     "name": "#%% md\n"
    }
   },
   "source": [
    "#### Test 2\n",
    "\n",
    "Test list entered as [(2, 6), (9, 5), (8, 4), (15, 3), (22, 2), (5, 1), (109, 0)]<br>\n",
    "This represents the equation: $2x^6 + 9x^5 + 8x^4 + 15x^3 + 22x^2 + 5x + 105$<br>\n",
    "The Derivative was calculated as: $(2*6)x^{6-1} + (9*5)x^{5-1} + (8*4)x^{4-1} + (15*3)x^{3-1} + (22*2)x^{2-1} + (5*1)x{1-1} + (105*0)x{0-1}$ -> $12x^5 + 45x^4 + 32x^3 + 45x^2 + 44x + 5$<br>\n",
    "With x equal to three the expression was evaluated as: $12(3)^5 + 45(3)^4 + 32(3)^3 + 45(3)^2 + 44(3) + 5$ -> $7967$"
   ]
  },
  {
   "cell_type": "code",
   "execution_count": 10,
   "metadata": {
    "pycharm": {
     "name": "#%%\n"
    }
   },
   "outputs": [
    {
     "name": "stdout",
     "output_type": "stream",
     "text": [
      "12x^5 + 45x^4 + 32x^3 + 45x^2 + 44x + 5\n",
      "7967\n"
     ]
    }
   ],
   "source": [
    "test_polynomial = [(2, 6), (9, 5), (8, 4), (15, 3), (22, 2), (5, 1), (109, 0)]\n",
    "derivative = calculate_derivative(test_polynomial)\n",
    "derivative_string = polynomial_to_string(derivative)\n",
    "evaluation = evaluate_derivative(test_polynomial, 3)\n",
    "print(derivative_string)\n",
    "print(evaluation)"
   ]
  },
  {
   "cell_type": "markdown",
   "metadata": {
    "pycharm": {
     "name": "#%% md\n"
    }
   },
   "source": [
    "#### Test 3\n",
    "\n",
    "Test list entered as [(2, 5), (9, 3), (8, 2), (15, 0)]<br>\n",
    "This represents the equation: $2x^5 + 9x^3 + 8x^2 + 15$<br>\n",
    "The Derivative was calculated as: $(2*5)x^{5-1} + (9*3)x^{3-1} + (8*2)x^{2-1} + (15*0)x^{0-1}$ -> $10x^4 + 27x^2 + 16x$<br>\n",
    "With x equal to three the expression was evaluated as: $10(3)^4 + 27(3)^2 + 16(3)$ -> $1101$"
   ]
  },
  {
   "cell_type": "code",
   "execution_count": 11,
   "metadata": {
    "pycharm": {
     "name": "#%%\n"
    }
   },
   "outputs": [
    {
     "name": "stdout",
     "output_type": "stream",
     "text": [
      "10x^4 + 27x^2 + 16x\n",
      "1101\n"
     ]
    }
   ],
   "source": [
    "test_polynomial = [(2, 5), (9, 3), (8, 2), (15, 0)]\n",
    "derivative = calculate_derivative(test_polynomial)\n",
    "derivative_string = polynomial_to_string(derivative)\n",
    "evaluation = evaluate_derivative(test_polynomial, 3)\n",
    "print(derivative_string)\n",
    "print(evaluation)"
   ]
  },
  {
   "cell_type": "markdown",
   "metadata": {},
   "source": [
    "#### Test 4\n",
    "\n",
    "Test list entered as [(7, 5), (-8, 4), (-5, 2), (15, 0)]<br>\n",
    "This represents the equation: $7x^5 - 8x^4 - 5x^2 + 15$<br>\n",
    "The Derivative was calculated as: $(7*5)x^{5-1} - (8*4)x^{4-1} - (5*2)x^{2-1} + (15*0)x^{0-1}$ -> $35x^4 + 32x^3 + 10x$<br>\n",
    "With x equal to four the expression was evaluated as: $35(4)^4 - 32(4)^3 - 10(4)$ -> $6872$"
   ]
  },
  {
   "cell_type": "code",
   "execution_count": 13,
   "metadata": {},
   "outputs": [
    {
     "name": "stdout",
     "output_type": "stream",
     "text": [
      "35x^4 - 32x^3 - 10x\n",
      "6872\n"
     ]
    }
   ],
   "source": [
    "test_polynomial = [(7, 5), (-8, 4), (-5, 2), (15, 0)]\n",
    "derivative = calculate_derivative(test_polynomial)\n",
    "derivative_string = polynomial_to_string(derivative)\n",
    "evaluation = evaluate_derivative(test_polynomial, 4)\n",
    "print(derivative_string)\n",
    "print(evaluation)"
   ]
  },
  {
   "cell_type": "markdown",
   "metadata": {
    "pycharm": {
     "name": "#%% md\n"
    }
   },
   "source": [
    "## Reflection"
   ]
  },
  {
   "cell_type": "markdown",
   "metadata": {
    "pycharm": {
     "name": "#%% md\n"
    }
   },
   "source": [
    "**Function 1 calculate_derivative:** Takes a list of tuples as its argument. The elements in the list represent elements of a polynomial expression.<br>\n",
    "The first value of each tuple represents a coefficient, and the second value represents an exponent. For example, a list\n",
    "[(a, 2) (b, 1) (c, 0)] represents the expression $ax^2 + bx + c$.<br>\n",
    "The output of the function is a list of tuples that represents the coefficient and the exponent after differentiation has been carried out on the expression.<br><br>\n",
    "\n",
    "**Function 2 polynomial_to_string:** Takes a list as it's argument.<br> \n",
    "A series of <code>if</code> statements are then used to format the polynomial as a string that can be represented to the user in the form $ax^2 + bx + c$. This is done by formatting each element into an f string <code>f\"ax^2\"</code> then appending it to a list.<br>\n",
    "Negative numbers were handled by detecting them in a conditional statement and then adding the correct operator in the format string.<br>\n",
    "When the expression is complete, the list elements were joined together using <code>\" \".join(List)</code>.<br>\n",
    "I worked on this function despite it not being graded as I found it useful for debugging and testing my code.<br><br>\n",
    "\n",
    "**Function 3 evaluate_polynomial:** This function takes a list of tuples and a variable as it's arguments.<br>\n",
    "These tuples are then used to evaluate the polynomial function for the argument <code>x_value</code>.<br>\n",
    "This is calculated in a for loop and the total value is returned.<br><br>\n",
    "\n",
    "**Function 4 evaluate_derivative:** This function takes a list of tuples and a variable as it's arguments.<br>It uses the calculate_derivative function described above to generate a list of tuples representing the derivative of the expression passed into it.<br>\n",
    "It then uses the evaluate_polynomial function to evaluate for the given value of x.<br><br>\n",
    "\n",
    "**Function 5 calculate_integral:** This function and its tests will not be part of the final submission as I have selected option 1, but will be included on gitlab.<br>\n",
    "The function takes a list of tuples and two variables as it's arguments.<br>\n",
    "The list of tuples represents a polynomial function, the variables represent an upper and lower bound, which will be used to calculate the area under the curve<br>\n",
    "The polynomial is integrated according to the power rule.<br> The resulting polynomial is then evaluated for the upper_bound and the lower_bound using the evaluate_polynomial function. The result of the lower_bound is then subtracted from the result for the upper_bound to calculate the area under the curve, which is then returned.<br><br>\n",
    "\n",
    "\n",
    "**Changes to code:** Initially Function 1 which was used to calculate the derivative took a list as its argument.\n",
    "The elements in the list represented elements of a polynomial expression.\n",
    "The position of the element in the list dictated what the exponents of the expression were. For example, a list [a, b, c] represented the expression $ax^2 + bx + c$.\n",
    "The exponent of the first variable in the list was determined by the length of the list minus one\n",
    "<code>  len(list) - 1 </code><br>\n",
    "The output of the function was a list of tuples that represent the coefficient and the exponent after differentiation had been carried out. As mentioned in the outline for this e-tivity, the issue with this method was that the list required to represent a polynomial with a large exponent would also require a\n",
    "large list. For example to represent the value $2x^{1000}$ would require a list with 1001 elements and would also generate\n",
    "$2x^{999} + 2x^{998} .... + 2x^2 + 2x + 2$. Or at least  it would the way  that I have currently implemented it.<br> Function 1 was updated to the current method to allow more flexibility when describing a polynomial expression. For example the expression $2x^{1000}$ can be represented as [(2, 1000)] and calculated easily without the need to include any other elements to fill out the list.<br>\n",
    "From this assignment I became familiar with Jupyter notebook. I learned some markdown language after seeing it used by other students. Also, elements of my submission are based on ideas in other\n",
    "student's code and advice offered to me on the discussion page. Writing code for this assignment and reading code submitted by other students has improved my comprehension of python greatly. Knowing that my code will be read by other students made me focus more on the readability of my code and the clarity of my comments than I would normally. Posting to the discussion page has given me more confidence to collaborate with other students online.\n"
   ]
  }
 ],
 "metadata": {
  "kernelspec": {
   "display_name": "Python 3 (ipykernel)",
   "language": "python",
   "name": "python3"
  },
  "language_info": {
   "codemirror_mode": {
    "name": "ipython",
    "version": 3
   },
   "file_extension": ".py",
   "mimetype": "text/x-python",
   "name": "python",
   "nbconvert_exporter": "python",
   "pygments_lexer": "ipython3",
   "version": "3.9.12"
  }
 },
 "nbformat": 4,
 "nbformat_minor": 2
}
