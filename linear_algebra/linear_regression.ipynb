{
 "cells": [
  {
   "cell_type": "markdown",
   "metadata": {
    "pycharm": {
     "name": "#%% md\n"
    }
   },
   "source": [
    "## Linear Regression"
   ]
  },
  {
   "cell_type": "code",
   "execution_count": 1,
   "metadata": {
    "pycharm": {
     "name": "#%%\n"
    }
   },
   "outputs": [],
   "source": [
    "import numpy as np\n",
    "import matplotlib.pyplot as plt"
   ]
  },
  {
   "cell_type": "code",
   "execution_count": 2,
   "metadata": {
    "pycharm": {
     "name": "#%%\n"
    }
   },
   "outputs": [],
   "source": [
    "def linreg_weights(X,y):\n",
    "    # Calculation of weights using pseudo-inverse. Note that X needs to contain the bias of 1\n",
    "    return np.linalg.inv((X.T.dot(X))).dot(X.T).dot(y)"
   ]
  },
  {
   "cell_type": "code",
   "execution_count": 3,
   "metadata": {
    "pycharm": {
     "name": "#%%\n"
    }
   },
   "outputs": [],
   "source": [
    "def linreg_predict(w,X):\n",
    "    # Calculation of outputs given weights and data (X). Note that X needs to contain the bias of 1. \n",
    "    out=[]\n",
    "    for x in X:\n",
    "        out.append(w.T.dot(x))\n",
    "    return np.array(out)"
   ]
  },
  {
   "cell_type": "markdown",
   "metadata": {
    "pycharm": {
     "name": "#%% md\n"
    }
   },
   "source": [
    "Load data from file (including bias of 1)"
   ]
  },
  {
   "cell_type": "code",
   "execution_count": 4,
   "metadata": {
    "pycharm": {
     "name": "#%%\n"
    }
   },
   "outputs": [],
   "source": [
    "data = np.loadtxt('lr_data.csv', delimiter=',')\n",
    "X = data[:,0:2]\n",
    "y= [[data[i,2]] for i in range(0,len(data[:,2]))]"
   ]
  },
  {
   "cell_type": "markdown",
   "metadata": {
    "pycharm": {
     "name": "#%% md\n"
    }
   },
   "source": [
    "Apply data to linear regression algorithm to obtain weights"
   ]
  },
  {
   "cell_type": "code",
   "execution_count": 5,
   "metadata": {
    "pycharm": {
     "name": "#%%\n"
    }
   },
   "outputs": [
    {
     "data": {
      "text/plain": [
       "array([[-99.46431881],\n",
       "       [564.20389249]])"
      ]
     },
     "execution_count": 5,
     "metadata": {},
     "output_type": "execute_result"
    }
   ],
   "source": [
    "weights = linreg_weights(X,y)\n",
    "weights"
   ]
  },
  {
   "cell_type": "code",
   "execution_count": 6,
   "metadata": {
    "pycharm": {
     "name": "#%%\n"
    }
   },
   "outputs": [
    {
     "data": {
      "text/plain": [
       "(0.0, 3.0, -100.0, 1500.0)"
      ]
     },
     "execution_count": 6,
     "metadata": {},
     "output_type": "execute_result"
    },
    {
     "data": {
      "image/png": "[encoded data removed]",
      "text/plain": [
       "<Figure size 640x480 with 1 Axes>"
      ]
     },
     "metadata": {},
     "output_type": "display_data"
    }
   ],
   "source": [
    "ind = np.arange(0,2.8,0.1)\n",
    "plt.plot(X[:,1],y,'.')\n",
    "plt.plot(ind, ind*weights[1]+weights[0],'r')\n",
    "plt.axis([0, 3, -100, 1500])"
   ]
  },
  {
   "cell_type": "markdown",
   "metadata": {
    "pycharm": {
     "name": "#%% md\n"
    }
   },
   "source": [
    "<hr style=\"border:2px solid gray\"> </hr>"
   ]
  },
  {
   "cell_type": "markdown",
   "metadata": {
    "pycharm": {
     "name": "#%% md\n"
    }
   },
   "source": [
    "### Linear Regression\n",
    "Linear regression was carried out using the least squares method and matrix multiplication.\n",
    "\n"
   ]
  },
  {
   "cell_type": "code",
   "execution_count": 7,
   "metadata": {
    "pycharm": {
     "name": "#%%\n"
    }
   },
   "outputs": [],
   "source": [
    "def dot_product(matrix_a, matrix_b):\n",
    "    \"\"\"\n",
    "    AIM: This function carries out matrix multiplication using the dot product method.\n",
    "    ARGUMENTS: Two matrices in the form of a list of lists or a numpy array of arrays.\n",
    "    ACTION: Checks to see if the Matrices can be multiplied together. Then uses nested for loops\n",
    "            to multiply the rows in matrix_a by the columns in matrix_b.\n",
    "    RETURN: Returns a matrix that is the product of matrix_a and matrix_b.\n",
    "    \"\"\"\n",
    "\n",
    "    # Checks that the columns in matrix_a are equal to the rows in matrix_b.\n",
    "    # Throws a TypeError exception if they don't match. \n",
    "    # This is to keep with the rules of matrix multiplication. \n",
    "    if len(matrix_a[0]) != len(matrix_b):\n",
    "        raise TypeError(\"The columns in matrix A must equal the rows in matrix B.\")\n",
    "    \n",
    "    # This checks to see if matrix_b is a one-dimensional array.\n",
    "    # This is to fix a bug where if b was a one-dimensional array\n",
    "    # my code would crash when trying to call a two-dimensional element.\n",
    "    matrix_b_is_two_dimensional = isinstance(matrix_b[0], np.ndarray) or isinstance(matrix_b[0], list)\n",
    "    \n",
    "    # List used to store final output.\n",
    "    product = []\n",
    "    \n",
    "    # Nested for loop. \n",
    "    # Multiplies the rows in matrix_a by the columns in matrix_b using the dot product method.\n",
    "    # To use this method the columns in matrix_a must match the rows in matrix_b.\n",
    "    # This then results in a matrix with rows equal to matrix_a and columns equal to matrix_b.\n",
    "    for row_in_a in matrix_a:\n",
    "        row = []\n",
    "        \n",
    "        # The variable number_of_cols_in_b controls the range\n",
    "        # for the loop below. If matrix_b is a one dimensional array this is set to one.\n",
    "        if matrix_b_is_two_dimensional:\n",
    "            number_of_cols_in_b = len(matrix_b[0])\n",
    "        else:\n",
    "            number_of_cols_in_b = 1\n",
    "                        \n",
    "        # 'i' is used to increment through the rows in matrix_b.\n",
    "        # This is used to traverse down the columns in matrix_b.\n",
    "        # If matrix_b is a one dimensional array this is set to 1.\n",
    "        for i in range(number_of_cols_in_b):\n",
    "            \n",
    "            element = 0\n",
    "            \n",
    "            for j, row_in_b in enumerate(matrix_b):\n",
    "                if matrix_b_is_two_dimensional:\n",
    "                    element += row_in_b[i] * row_in_a[j]\n",
    "                else:\n",
    "                    element += row_in_b * row_in_a[j]\n",
    "                    \n",
    "                \n",
    "            row.append(element)\n",
    "        \n",
    "        product.append(row)\n",
    "        \n",
    "    return np.asarray(product)\n",
    "                       \n",
    "    \n",
    "    "
   ]
  },
  {
   "cell_type": "code",
   "execution_count": 8,
   "metadata": {
    "pycharm": {
     "name": "#%%\n"
    }
   },
   "outputs": [],
   "source": [
    "def transpose(matrix):\n",
    "    \"\"\"\n",
    "    AIM: Transposes matrix using the unzip method.\n",
    "    ARGUMENTS: A matrix in the form of a list of lists or a numpy array of arrays.\n",
    "    ACTION: Unzips matrix and maps it to a list.\n",
    "    RETURNS: Transposed matrix.\n",
    "    \"\"\"\n",
    "    \n",
    "    transposed_matrix = []\n",
    "    \n",
    "    try:\n",
    "        transposed_matrix = list(map(list,zip(*matrix)))\n",
    "    except TypeError:\n",
    "        transposed_matrix = matrix.copy()\n",
    "\n",
    "            \n",
    "    return np.asarray(transposed_matrix)"
   ]
  },
  {
   "cell_type": "code",
   "execution_count": 9,
   "metadata": {
    "pycharm": {
     "name": "#%%\n"
    }
   },
   "outputs": [],
   "source": [
    "def inverse(matrix_a):\n",
    "    \"\"\"\n",
    "    AIM: Calculates the Inverse of a 2x2 matrix.\n",
    "    ARGUMENTS: A matrix in the form of a list of lists or a numpy array of arrays.\n",
    "    ACTION: Calculates the inverse of a 2x2 matrix by swapping the position of a and d,\n",
    "            and inverting the sign of b and c. This swapped matrix is then divided by its determinant\n",
    "    \"\"\"\n",
    "    if len(matrix_a[0]) == 2 and len(matrix_a) == 2:\n",
    "        a, b = matrix_a[0]\n",
    "        c, d = matrix_a[1]\n",
    "\n",
    "        determinant = (a * d) - (b * c)\n",
    "\n",
    "        swapped_positions = [[d, b * (-1)], [c * (-1), a]]\n",
    "\n",
    "        inverse_matrix = []\n",
    "        for a, b in swapped_positions:\n",
    "            a /= determinant\n",
    "            b /= determinant\n",
    "            inverse_matrix.append([a, b])\n",
    "\n",
    "        return np.asarray(inverse_matrix)\n",
    "    else:\n",
    "        raise TypeError(\"This inverse method only accepts a 2x2 Matrix.\")"
   ]
  },
  {
   "cell_type": "code",
   "execution_count": 10,
   "metadata": {
    "pycharm": {
     "name": "#%%\n"
    }
   },
   "outputs": [],
   "source": [
    "def fit(X, Y):\n",
    "    \"\"\"\n",
    "    AIM: Calculates the weight vector.\n",
    "    ARGUMENTS: Two matrices X - list of ones and a list of the x values, Y - list of y values.\n",
    "    ACTION: Uses the transpose, dot_product and inverse functions to execute the formula \n",
    "            weights = (X^T.X)^-1.X^T.Y. \n",
    "    RETURNS: The weight vector which represents the y-intercept and the slope of the line.\n",
    "    \"\"\"\n",
    "#     # I broke this into steps to make it easier for myself to follow. \n",
    "#       I will leave them here to show how I broke down the equation.\n",
    "#     # Transpose X\n",
    "#     X_T = transpose(X)\n",
    "    \n",
    "#     # Dot X with the transpose of X.\n",
    "#     X_T_dot_X = dot_product(X_T, X)\n",
    "    \n",
    "#     # Get the inverse \n",
    "#     inverse_X_T_dot_X = inverse(X_T_dot_X)\n",
    "    \n",
    "#     # Dot the inverse with X.\n",
    "#     inverse_X_T_dot_X_dot_X = dot_product(inverse_X_T_dot_X, X_T)\n",
    "    \n",
    "#     # Dot the result of the previous function with Y.\n",
    "#     inverse_X_T_dot_X_dot_X_dot_Y = dot_product(inverse_X_T_dot_X_dot_X, Y)\n",
    "\n",
    "#   Transpose X\n",
    "    X_T = transpose(X)\n",
    "    \n",
    "    return dot_product(dot_product(inverse(dot_product(X_T, X)), X_T), Y)"
   ]
  },
  {
   "cell_type": "code",
   "execution_count": 11,
   "metadata": {
    "pycharm": {
     "name": "#%%\n"
    }
   },
   "outputs": [],
   "source": [
    "def predict(weights, X):\n",
    "    \"\"\"\n",
    "    AIM: Predicts the outputs using the weighted vector.\n",
    "    ARGUMENTS: Two matrices the weighted vector - representing the slope of the line and\n",
    "               the y-intercept and X - list of ones and a list of the x values.\n",
    "    ACTION: Uses the transpose function and the dot product to multiply the weighted vector with X. \n",
    "    RETURNS: Returns a list of predictions for X.\n",
    "    \"\"\"\n",
    "    weights_transpose = transpose(weights)\n",
    "    \n",
    "    output = []\n",
    "    \n",
    "    for point in X:\n",
    "        output.append(dot_product(weights_transpose, point)[0])\n",
    "        \n",
    "    return np.asarray(output)"
   ]
  },
  {
   "cell_type": "code",
   "execution_count": 12,
   "metadata": {
    "pycharm": {
     "name": "#%%\n"
    }
   },
   "outputs": [],
   "source": [
    "def get_params(X, Y):\n",
    "    \"\"\"\n",
    "    AIM: Returns the weight vector.\n",
    "    ARGUMENTS: Two matrices X - list of ones and a list of the x values, Y - list of y values.\n",
    "    ACTION: Uses the fit function to calculate the weighted vector.\n",
    "    RETURNS: The weight vector as a string which represents the y-intercept and the slope of the line.\n",
    "    \"\"\"\n",
    "    weights = fit(X,Y)\n",
    "    y_intercept = weights[0][0]\n",
    "    slope = weights[1][0]\n",
    "    return f\"The slope is {slope} and the y-intercept is {y_intercept}.\"\n",
    "    "
   ]
  },
  {
   "cell_type": "code",
   "execution_count": 13,
   "metadata": {
    "pycharm": {
     "name": "#%%\n"
    }
   },
   "outputs": [],
   "source": [
    "class LinearAlgebra(object):\n",
    "    \"\"\"\n",
    "    A class to contain methods for linear algebra operations.\n",
    "    \n",
    "    Methods\n",
    "    -------\n",
    "    dot_product: Carries out matrix multiplication.\n",
    "    transpose: transposes a matrix.\n",
    "    inverse: returns the inverse of a 2x2 matrix.\n",
    "    \"\"\"\n",
    "    \n",
    "    def dot_product(self, matrix_a, matrix_b):\n",
    "        \"\"\"\n",
    "        AIM: This function carries out matrix multiplication using the dot product method.\n",
    "        ARGUMENTS: Two matrices in the form of a list of lists or a numpy array of arrays.\n",
    "        ACTION: Checks to see if the Matrices can be multiplied together. Then uses nested for loops\n",
    "                to multiply the rows in matrix_a by the columns in matrix_b.\n",
    "        RETURN: Returns a matrix that is the product of matrix_a and matrix_b.\n",
    "        \"\"\"\n",
    "\n",
    "        # Checks that the columns in matrix_a are equal to the rows in matrix_b.\n",
    "        # Throws a TypeError exception if they don't match. \n",
    "        # This is to keep with the rules of matrix multiplication. \n",
    "        if len(matrix_a[0]) != len(matrix_b):\n",
    "            raise TypeError(\"The columns in matrix A must equal the rows in matrix B.\")\n",
    "\n",
    "        # This checks to see if matrix_b is a one-dimensional array.\n",
    "        # This is to fix a bug where if b was a one-dimensional array\n",
    "        # my code would crash when trying to call a two-dimensional element.\n",
    "        matrix_b_is_two_dimensional = isinstance(matrix_b[0], np.ndarray) or isinstance(matrix_b[0], list)\n",
    "\n",
    "        # List used to store final output.\n",
    "        product = []\n",
    "\n",
    "        # Nested for loop. \n",
    "        # Multiplies the rows in matrix_a by the columns in matrix_b using the dot product method.\n",
    "        # To use this method the columns in matrix_a must match the rows in matrix_b.\n",
    "        # This then results in a matrix with rows equal to matrix_a and columns equal to matrix_b.\n",
    "        for row_in_a in matrix_a:\n",
    "            row = []\n",
    "\n",
    "            # The variable number_of_cols_in_b controls the range\n",
    "            # for the loop below. If matrix_b is a one dimensional array this is set to one.\n",
    "            if matrix_b_is_two_dimensional:\n",
    "                number_of_cols_in_b = len(matrix_b[0])\n",
    "            else:\n",
    "                number_of_cols_in_b = 1\n",
    "\n",
    "            # 'i' is used to increment through the rows in matrix_b.\n",
    "            # This is used to traverse down the columns in matrix_b.\n",
    "            # If matrix_b is a one dimensional array this is set to 1.\n",
    "            for i in range(number_of_cols_in_b):\n",
    "\n",
    "                element = 0\n",
    "\n",
    "                for j, row_in_b in enumerate(matrix_b):\n",
    "                    if matrix_b_is_two_dimensional:\n",
    "                        element += row_in_b[i] * row_in_a[j]\n",
    "                    else:\n",
    "                        element += row_in_b * row_in_a[j]\n",
    "\n",
    "\n",
    "                row.append(element)\n",
    "\n",
    "            product.append(row)\n",
    "\n",
    "        return np.asarray(product)\n",
    "\n",
    "\n",
    "    def transpose(self, matrix):\n",
    "        \"\"\"\n",
    "        AIM: Transposes matrix using the unzip method.\n",
    "        ARGUMENTS: A matrix in the form of a list of lists or a numpy array of arrays.\n",
    "        ACTION: Unzips matrix and maps it to a list.\n",
    "        RETURNS: Transposed matrix.\n",
    "        \"\"\"\n",
    "\n",
    "        transposed_matrix = []\n",
    "\n",
    "        try:\n",
    "            transposed_matrix = list(map(list,zip(*matrix)))\n",
    "        except TypeError:\n",
    "            transposed_matrix = matrix.copy()\n",
    "\n",
    "\n",
    "        return np.asarray(transposed_matrix)\n",
    "\n",
    "\n",
    "\n",
    "    def inverse(self, matrix_a):\n",
    "        \"\"\"\n",
    "        AIM: Calculates the Inverse of a 2x2 matrix.\n",
    "        ARGUMENTS: A matrix in the form of a list of lists or a numpy array of arrays.\n",
    "        ACTION: Calculates the inverse of a 2x2 matrix by swapping the position of a and d,\n",
    "                and inverting the sign of b and c. This swapped matrix is then divided by its determinant\n",
    "        \"\"\"\n",
    "        if len(matrix_a[0]) == 2 and len(matrix_a) == 2:\n",
    "            a, b = matrix_a[0]\n",
    "            c, d = matrix_a[1]\n",
    "\n",
    "            determinant = (a * d) - (b * c)\n",
    "\n",
    "            swapped_positions = [[d, b * (-1)], [c * (-1), a]]\n",
    "\n",
    "            inverse_matrix = []\n",
    "            for a, b in swapped_positions:\n",
    "                a /= determinant\n",
    "                b /= determinant\n",
    "                inverse_matrix.append([a, b])\n",
    "\n",
    "            return np.asarray(inverse_matrix)\n",
    "        else:\n",
    "            raise TypeError(\"This inverse method only accepts a 2x2 Matrix.\")\n",
    "\n",
    "\n",
    "    "
   ]
  },
  {
   "cell_type": "code",
   "execution_count": 14,
   "metadata": {
    "pycharm": {
     "name": "#%%\n"
    }
   },
   "outputs": [],
   "source": [
    "class LinearRegression(LinearAlgebra):\n",
    "    \"\"\"\n",
    "    A class to contain methods for linear regression using the least squares method.\n",
    "    \n",
    "    Attributes\n",
    "    ---------\n",
    "    X: list of ones and a list of the x values\n",
    "    y: list of y values\n",
    "    weights: weighted vector element 0 represents the y-intercept and element 1 represents\n",
    "             the slope of the line.\n",
    "    \n",
    "    Methods\n",
    "    -------\n",
    "    get_params: Returns the y-intercept and the slope of the line, calculated in the fit function.\n",
    "    fit: Calculates the weight vector based on attributes X and y.\n",
    "    predict: Predicts the outputs using the weighted vector.\n",
    "    \"\"\"\n",
    "    \n",
    "    def __init__(self, X, y):\n",
    "        self.X = X\n",
    "        self.y = y\n",
    "        self.weights = []\n",
    "        \n",
    "    def get_params(self):\n",
    "        return self.weights\n",
    "        \n",
    "    \n",
    "    def fit(self):\n",
    "        \"\"\"\n",
    "        AIM: Calculates the weight vector based on attributes X and y.\n",
    "        ARGUMENTS: self.\n",
    "        ACTION: Uses methods inherited from the LinearAlgebra class\n",
    "                transpose, dot_product and inverse functions to execute the formula \n",
    "                A = (X^T.X)^-1.X^T.Y. \n",
    "        RETURNS: The weight vector which represents the y-intercept and the slope of the line.\n",
    "        \"\"\"\n",
    "        # I broke this into steps to make it easier for myself to follow.\n",
    "        # Transpose X\n",
    "        X_T = self.transpose(self.X)\n",
    "\n",
    "#         # Dot X with the transpose of X.\n",
    "#         X_T_dot_X = self.dot_product(X_T, self.X)\n",
    "\n",
    "#         # Get the inverse \n",
    "#         inverse_X_T_dot_X = self.inverse(X_T_dot_X)\n",
    "\n",
    "#         # Dot the inverse with X.\n",
    "#         inverse_X_T_dot_X_dot_X = self.dot_product(inverse_X_T_dot_X, X_T)\n",
    "\n",
    "#         # Dot the result of the previous function with Y.\n",
    "#         inverse_X_T_dot_X_dot_X_dot_Y = self.dot_product(inverse_X_T_dot_X_dot_X, self.y)\n",
    "        \n",
    "        self.weights = dot_product(dot_product(inverse(dot_product(X_T, X)), X_T), self.y)\n",
    "\n",
    "        return self.weights\n",
    "        \n",
    "    \n",
    "    def predict(self):\n",
    "        \"\"\"\n",
    "        AIM: Predicts the outputs using the weighted vector.\n",
    "        ARGUMENTS: self.\n",
    "        ACTION: Uses methods inherited from the LinearAlgebra class transpose and the dot product to multiply \n",
    "                the weighted vector with X. \n",
    "        RETURNS: Returns a list of predictions for X.\n",
    "        \"\"\"\n",
    "        weights_transpose = transpose(self.weights)\n",
    "\n",
    "        output = []\n",
    "\n",
    "        for point in self.X:\n",
    "            output.append(self.dot_product(weights_transpose, point)[0])\n",
    "\n",
    "        return np.asarray(output)\n",
    "\n",
    "    "
   ]
  },
  {
   "cell_type": "code",
   "execution_count": 15,
   "metadata": {
    "pycharm": {
     "name": "#%%\n"
    }
   },
   "outputs": [],
   "source": [
    "# Create an object of type LinearAlgebra to use in testing.\n",
    "linear_algebra = LinearAlgebra()\n",
    "linear_regression = LinearRegression(X, y)"
   ]
  },
  {
   "cell_type": "markdown",
   "metadata": {
    "pycharm": {
     "name": "#%% md\n"
    }
   },
   "source": [
    "### Test 1 : dot_product\n",
    "\n",
    "Matrix A:<br>\n",
    "[1, 2, 3]<br>\n",
    "[1, 2, 3]<br>\n",
    "           \n",
    "Matrix B:<br>\n",
    "[1, 2, 3]<br>\n",
    "[1, 2, 3]<br> \n",
    "[1, 2, 3]<br>\n",
    "           \n",
    "Calculation:<br> \n",
    "[ $(1*1 + 1*2 + 1*3) $, $(2*1 + 2*2 + 2*3)$, $(3*1 + 3*2 + 3*3)$]<br>\n",
    "[ $(1*1 + 1*2 + 1*3)$, $(2*1 + 2*2 + 2*3)$, $(3*1 + 3*2 + 3*3)$]<br>\n",
    "\n",
    "Result:<br>\n",
    "[6, 12, 18]<br>\n",
    "[6, 12, 18]<br>\n",
    "                "
   ]
  },
  {
   "cell_type": "code",
   "execution_count": 16,
   "metadata": {
    "pycharm": {
     "name": "#%%\n"
    }
   },
   "outputs": [
    {
     "name": "stdout",
     "output_type": "stream",
     "text": [
      "[[ 6 12 18]\n",
      " [ 6 12 18]]\n"
     ]
    }
   ],
   "source": [
    "test_matrix_1 = [[1, 2, 3], [1, 2, 3]]\n",
    "test_matrix_2 = [[1, 2, 3], [1, 2, 3], [1, 2, 3]]\n",
    "test = dot_product(test_matrix_1, test_matrix_2)\n",
    "print(test)"
   ]
  },
  {
   "cell_type": "code",
   "execution_count": 17,
   "metadata": {
    "pycharm": {
     "name": "#%%\n"
    }
   },
   "outputs": [
    {
     "name": "stdout",
     "output_type": "stream",
     "text": [
      "[[ 6 12 18]\n",
      " [ 6 12 18]]\n"
     ]
    }
   ],
   "source": [
    "# The same test carried out using the LinearAlgebra class\n",
    "test = linear_algebra.dot_product(test_matrix_1, test_matrix_2)\n",
    "print(test)"
   ]
  },
  {
   "cell_type": "markdown",
   "metadata": {
    "pycharm": {
     "name": "#%% md\n"
    }
   },
   "source": [
    "### Test 2: dot_product\n",
    "\n",
    "Matrix A:<br>\n",
    "[1, 2, 3]<br>\n",
    "[1, 2, 3]<br> \n",
    "[1, 2, 3]<br>\n",
    "\n",
    "Matrix B:<br>\n",
    "[1, 2, 3]<br>\n",
    "[1, 2, 3]<br>\n",
    "\n",
    "Calculation: This multiplies a 3x3 matrix with a 2x3 matrix as the columns in A don't match<br> \n",
    "the rows in B this will cause a TypeError exception."
   ]
  },
  {
   "cell_type": "code",
   "execution_count": 18,
   "metadata": {
    "pycharm": {
     "name": "#%%\n"
    },
    "scrolled": true
   },
   "outputs": [
    {
     "name": "stdout",
     "output_type": "stream",
     "text": [
      "The columns in matrix A must equal the rows in matrix B.\n"
     ]
    }
   ],
   "source": [
    "test_matrix_1 = [[1, 2, 3], [1, 2, 3]]\n",
    "test_matrix_2 = [[1, 2, 3], [1, 2, 3], [1, 2, 3]]\n",
    "\n",
    "try:\n",
    "    test = dot_product(test_matrix_2, test_matrix_1)\n",
    "except TypeError as error:\n",
    "    print(error)"
   ]
  },
  {
   "cell_type": "code",
   "execution_count": 19,
   "metadata": {
    "pycharm": {
     "name": "#%%\n"
    }
   },
   "outputs": [
    {
     "name": "stdout",
     "output_type": "stream",
     "text": [
      "The columns in matrix A must equal the rows in matrix B.\n"
     ]
    }
   ],
   "source": [
    "# The same test carried out using the LinearAlgebra class\n",
    "try:\n",
    "    test = linear_algebra.dot_product(test_matrix_2, test_matrix_1)\n",
    "except TypeError as error:\n",
    "    print(error)"
   ]
  },
  {
   "cell_type": "markdown",
   "metadata": {
    "pycharm": {
     "name": "#%% md\n"
    }
   },
   "source": [
    "### Test 3: dot_product\n",
    "\n",
    "This test compares the result of the transpose of X doted with X using<br>\n",
    "Numpy methods and using my own function."
   ]
  },
  {
   "cell_type": "code",
   "execution_count": 20,
   "metadata": {
    "pycharm": {
     "name": "#%%\n"
    }
   },
   "outputs": [
    {
     "name": "stdout",
     "output_type": "stream",
     "text": [
      "Using dot_product function:\n",
      " [[ 24.      49.75  ]\n",
      " [ 49.75   105.9375]] \n",
      "\n",
      "Using LinearAlgebra class:\n",
      " [[ 24.      49.75  ]\n",
      " [ 49.75   105.9375]] \n",
      "\n",
      "Using Numpy methods:\n",
      " [[ 24.      49.75  ]\n",
      " [ 49.75   105.9375]]\n"
     ]
    }
   ],
   "source": [
    "test_reference = X.T.dot(X)\n",
    "test = dot_product(X.T, X)\n",
    "la_class_test = linear_algebra.dot_product(X.T, X)\n",
    "\n",
    "print(\"Using dot_product function:\\n\", test, \"\\n\")\n",
    "print(\"Using LinearAlgebra class:\\n\", la_class_test, \"\\n\")\n",
    "print(\"Using Numpy methods:\\n\", test_reference)"
   ]
  },
  {
   "cell_type": "markdown",
   "metadata": {
    "pycharm": {
     "name": "#%% md\n"
    }
   },
   "source": [
    "### Test 4: Transpose\n",
    "\n",
    "This test compares the result of the transpose of X using<br>\n",
    "Numpy methods and using my own function."
   ]
  },
  {
   "cell_type": "code",
   "execution_count": 21,
   "metadata": {
    "pycharm": {
     "name": "#%%\n"
    }
   },
   "outputs": [
    {
     "name": "stdout",
     "output_type": "stream",
     "text": [
      "Using transpose function:\n",
      " [[1.   1.   1.   1.   1.   1.   1.   1.   1.   1.   1.   1.   1.   1.\n",
      "  1.   1.   1.   1.   1.   1.   1.   1.   1.   1.  ]\n",
      " [2.75 2.5  2.5  2.5  2.5  2.5  2.5  2.25 2.25 2.25 2.   2.   2.   1.75\n",
      "  1.75 1.75 1.75 1.75 1.75 1.75 1.75 1.75 1.75 1.75]] \n",
      "\n",
      "Using LinearAlgebra class:\n",
      " [[1.   1.   1.   1.   1.   1.   1.   1.   1.   1.   1.   1.   1.   1.\n",
      "  1.   1.   1.   1.   1.   1.   1.   1.   1.   1.  ]\n",
      " [2.75 2.5  2.5  2.5  2.5  2.5  2.5  2.25 2.25 2.25 2.   2.   2.   1.75\n",
      "  1.75 1.75 1.75 1.75 1.75 1.75 1.75 1.75 1.75 1.75]] \n",
      "\n",
      "Using Numpy methods:\n",
      " [[1.   1.   1.   1.   1.   1.   1.   1.   1.   1.   1.   1.   1.   1.\n",
      "  1.   1.   1.   1.   1.   1.   1.   1.   1.   1.  ]\n",
      " [2.75 2.5  2.5  2.5  2.5  2.5  2.5  2.25 2.25 2.25 2.   2.   2.   1.75\n",
      "  1.75 1.75 1.75 1.75 1.75 1.75 1.75 1.75 1.75 1.75]]\n"
     ]
    }
   ],
   "source": [
    "print(\"Using transpose function:\\n\", transpose(X), \"\\n\")\n",
    "print(\"Using LinearAlgebra class:\\n\", linear_algebra.transpose(X), \"\\n\")\n",
    "print(\"Using Numpy methods:\\n\", X.T)"
   ]
  },
  {
   "cell_type": "markdown",
   "metadata": {
    "pycharm": {
     "name": "#%% md\n"
    }
   },
   "source": [
    "### Test 5: inverse\n",
    "\n",
    "This test compares the result of the inverse of X transpose dotted with X using<br>\n",
    "Numpy methods and using my own function."
   ]
  },
  {
   "cell_type": "code",
   "execution_count": 22,
   "metadata": {
    "pycharm": {
     "name": "#%%\n"
    }
   },
   "outputs": [
    {
     "name": "stdout",
     "output_type": "stream",
     "text": [
      "Using inverse function:\n",
      " [[ 1.57089898 -0.73772011]\n",
      " [-0.73772011  0.35588508]] \n",
      "\n",
      "Using LinearAlgebra class:\n",
      " [[ 1.57089898 -0.73772011]\n",
      " [-0.73772011  0.35588508]] \n",
      "\n",
      "Using Numpy methods:\n",
      " [[ 1.57089898 -0.73772011]\n",
      " [-0.73772011  0.35588508]]\n",
      "\n",
      "\n",
      "There was an error: This inverse method only accepts a 2x2 Matrix.\n"
     ]
    }
   ],
   "source": [
    "reference_output = np.linalg.inv((X.T.dot(X)))\n",
    "three_by_three_matrix = [[1,2,3],[1,2,3],[1,2,3]]\n",
    "\n",
    "print(\"Using inverse function:\\n\", inverse(X.T.dot(X)), \"\\n\")\n",
    "print(\"Using LinearAlgebra class:\\n\", linear_algebra.inverse(X.T.dot(X)), \"\\n\")\n",
    "print(\"Using Numpy methods:\\n\", reference_output)\n",
    "try:\n",
    "    print(\"The inverse of a 3x3 matrix:\", linear_algebra.inverse(three_by_three_matrix))\n",
    "except TypeError as error:\n",
    "    print(\"\\n\\nThere was an error:\", error)"
   ]
  },
  {
   "cell_type": "markdown",
   "metadata": {
    "pycharm": {
     "name": "#%% md\n"
    }
   },
   "source": [
    "### Test 6: fit\n",
    "\n",
    "This test compares the result of the linreg_weights function which uses<br>\n",
    "Numpy methods and using my own function."
   ]
  },
  {
   "cell_type": "code",
   "execution_count": 23,
   "metadata": {
    "pycharm": {
     "name": "#%%\n"
    }
   },
   "outputs": [
    {
     "name": "stdout",
     "output_type": "stream",
     "text": [
      "Using fit function:\n",
      " [[-99.46431881]\n",
      " [564.20389249]] \n",
      "\n",
      "Using linear_regression class:\n",
      " [[-99.46431881]\n",
      " [564.20389249]] \n",
      "\n",
      "Using Numpy methods:\n",
      " [[-99.46431881]\n",
      " [564.20389249]]\n"
     ]
    }
   ],
   "source": [
    "reference_output =  linreg_weights(X,y)\n",
    "my_output = fit(X, y)\n",
    "\n",
    "print(\"Using fit function:\\n\", my_output, \"\\n\")\n",
    "print(\"Using linear_regression class:\\n\", linear_regression.fit(), \"\\n\")\n",
    "print(\"Using Numpy methods:\\n\", reference_output)"
   ]
  },
  {
   "cell_type": "markdown",
   "metadata": {
    "pycharm": {
     "name": "#%% md\n"
    }
   },
   "source": [
    "### Test 7: predict\n",
    "\n",
    "This test compares the result of the linreg_predict function which uses<br>\n",
    "Numpy methods and using my own function."
   ]
  },
  {
   "cell_type": "code",
   "execution_count": 24,
   "metadata": {
    "pycharm": {
     "name": "#%%\n"
    }
   },
   "outputs": [
    {
     "name": "stdout",
     "output_type": "stream",
     "text": [
      "Using fit function:\n",
      " [[1452.09638554]\n",
      " [1311.04541242]\n",
      " [1311.04541242]\n",
      " [1311.04541242]\n",
      " [1311.04541242]\n",
      " [1311.04541242]\n",
      " [1311.04541242]\n",
      " [1169.9944393 ]\n",
      " [1169.9944393 ]\n",
      " [1169.9944393 ]\n",
      " [1028.94346617]\n",
      " [1028.94346617]\n",
      " [1028.94346617]\n",
      " [ 887.89249305]\n",
      " [ 887.89249305]\n",
      " [ 887.89249305]\n",
      " [ 887.89249305]\n",
      " [ 887.89249305]\n",
      " [ 887.89249305]\n",
      " [ 887.89249305]\n",
      " [ 887.89249305]\n",
      " [ 887.89249305]\n",
      " [ 887.89249305]\n",
      " [ 887.89249305]] \n",
      "\n",
      "Using linear_regression class:\n",
      " [[1452.09638554]\n",
      " [1311.04541242]\n",
      " [1311.04541242]\n",
      " [1311.04541242]\n",
      " [1311.04541242]\n",
      " [1311.04541242]\n",
      " [1311.04541242]\n",
      " [1169.9944393 ]\n",
      " [1169.9944393 ]\n",
      " [1169.9944393 ]\n",
      " [1028.94346617]\n",
      " [1028.94346617]\n",
      " [1028.94346617]\n",
      " [ 887.89249305]\n",
      " [ 887.89249305]\n",
      " [ 887.89249305]\n",
      " [ 887.89249305]\n",
      " [ 887.89249305]\n",
      " [ 887.89249305]\n",
      " [ 887.89249305]\n",
      " [ 887.89249305]\n",
      " [ 887.89249305]\n",
      " [ 887.89249305]\n",
      " [ 887.89249305]] \n",
      "\n",
      "Using Numpy methods:\n",
      " [[1452.09638554]\n",
      " [1311.04541242]\n",
      " [1311.04541242]\n",
      " [1311.04541242]\n",
      " [1311.04541242]\n",
      " [1311.04541242]\n",
      " [1311.04541242]\n",
      " [1169.9944393 ]\n",
      " [1169.9944393 ]\n",
      " [1169.9944393 ]\n",
      " [1028.94346617]\n",
      " [1028.94346617]\n",
      " [1028.94346617]\n",
      " [ 887.89249305]\n",
      " [ 887.89249305]\n",
      " [ 887.89249305]\n",
      " [ 887.89249305]\n",
      " [ 887.89249305]\n",
      " [ 887.89249305]\n",
      " [ 887.89249305]\n",
      " [ 887.89249305]\n",
      " [ 887.89249305]\n",
      " [ 887.89249305]\n",
      " [ 887.89249305]]\n"
     ]
    }
   ],
   "source": [
    "reference_output = linreg_predict(weights, X)\n",
    "my_output = predict(weights, X)\n",
    "\n",
    "print(\"Using fit function:\\n\", my_output, \"\\n\")\n",
    "print(\"Using linear_regression class:\\n\", linear_regression.predict(), \"\\n\")\n",
    "print(\"Using Numpy methods:\\n\", reference_output)"
   ]
  },
  {
   "cell_type": "code",
   "execution_count": 26,
   "metadata": {},
   "outputs": [
    {
     "data": {
      "text/plain": [
       "numpy.ndarray"
      ]
     },
     "execution_count": 26,
     "metadata": {},
     "output_type": "execute_result"
    }
   ],
   "source": [
    "type(my_output)"
   ]
  },
  {
   "cell_type": "markdown",
   "metadata": {
    "pycharm": {
     "name": "#%% md\n"
    }
   },
   "source": [
    "### Test 8: get_params\n",
    "\n",
    "Prints the weighted vector as a string."
   ]
  },
  {
   "cell_type": "code",
   "execution_count": 25,
   "metadata": {
    "pycharm": {
     "name": "#%%\n"
    },
    "scrolled": false
   },
   "outputs": [
    {
     "name": "stdout",
     "output_type": "stream",
     "text": [
      "The slope is 564.2038924930501 and the y-intercept is -99.4643188137135.\n",
      "[[-99.46431881]\n",
      " [564.20389249]]\n"
     ]
    }
   ],
   "source": [
    "test = get_params(X, y)\n",
    "print(test)\n",
    "print(linear_regression.get_params())"
   ]
  },
  {
   "cell_type": "markdown",
   "metadata": {
    "pycharm": {
     "name": "#%% md\n"
    }
   },
   "source": [
    "<hr style=\"border:2px solid gray\"> </hr>"
   ]
  },
  {
   "cell_type": "markdown",
   "metadata": {
    "pycharm": {
     "name": "#%% md\n"
    }
   },
   "source": [
    "## Reflection"
   ]
  },
  {
   "cell_type": "markdown",
   "metadata": {
    "pycharm": {
     "name": "#%% md\n"
    }
   },
   "source": [
    "The aim of task 1 was to write a set of functions that could be used to perform a linear regression on a set of data provided for the task. The linear regression would be implemented using the method of least squares. This is a method of plotting a line of best fit through a set of coordinates on an x-y axis.  \n",
    "To complete this task, several functions needed to be created. This included functions to carry out the linear regression itself and matrix algebra functions to carry out calculations for this.\n",
    "When these functions were completed, an additional task was given to encapsulate them in a class. This was to make the code more portable so that it could be used as a package in future projects, give us practice writing, and use object-oriented programming. \n",
    "#### Matrix Algebra Functions\n",
    "**Dot_product:** This function multiplies two matrices together using the dot product method. This is where when matrix A and matrix B are multiplied together, each column in matrix B is multiplied by each row in matrix A. For matrices to be multiplied, the columns in matrix A must equal the rows in matrix B. The resulting matrix has the same number of rows as matrix A and the same number of columns as matrix B. In this function, if the columns in matrix A didn’t equal the rows in matrix B then an exception was raised. The matrices were then multiplied together using a series of nested for loops. The resulting matrix was returned as a NumPy array.<br><br>\n",
    "**Transpose:** In matrix algebra, transposing a matrix involves altering a matrix so that the values represented as a row are then represented as a column. \n",
    "This was executed using a method learned in the secondary material for this course. It involved using the unzip method (*zip) the output of this method was mapped as a list and then combined as a list using the list function. This method failed if a single-dimensional list was passed to the function. Error handling was put in place to deal with this.\n",
    "**Inverse:** A method to calculate the inverse of a two-by-two matrix was carried out using the following equation:<br>\n",
    "\t$1/(ad-bc) * [[d,  -b], [-c, a]]$<br><br>\n",
    "This method only works on a two-by-two matrix. Error handling was added to ensure that if a larger matrix were entered, it would raise an exception.<br><br>\n",
    "**Linear regression methods**<br>\n",
    "**Fit:** This function was used to calculate the y-intercept and the slope of the line of best fit. This could then be used to plot that line. These points were calculated using the equation:<br>\n",
    "\t$weights = (X^T.X)^{-1}.X^T.Y$<br>\n",
    "The function was executed by first breaking it into more manageable parts and carrying out calculations using the matrix algebra functions that were also created for this task. The output of this function was the weights vector representing the y-intercept and the slope of the line of best fit.<br><br>\n",
    "**Predict:** The predict function predicts the output for X based on the weighted vector. It takes two matrices the weighted vector - representing the slope of the line and the y-intercept, and X - list of ones and a list of the x values. Uses the transpose function and the dot product to multiply the weighted vector with X. Returns a list of predictions for X.\n",
    "**Get_params:** The get_params function returns the weighted vector. This format isn’t particularly useful, and this function becomes more valuable when implemented as part of a class.<br><br>\n",
    "**Object Orientation**<br>\n",
    "These functions were then to be encapsulated into a class. I split the functions into two different classes. A MatrixAlgebra class contains the functions dot_product, transpose, and inverse, and a LinearRegression class. The LinearRegression class is a subclass of the MatrixAlgebra class. This was done so that the LinearAlgebra class could use all the methods of the Matrix algebra class internally. I decided to keep the classes separate as I felt that the MatrixAlgebra functions have the potential to be used in other classes separate from Linear regression.<br>\n",
    "**Testing**<br>\n",
    "Testing for this task was carried out by comparing the output of my functions to the output of the NumPy functions given as an example at the start of the task. Some tests were also carried out against dummy values which I created.<br>\n",
    "**Disadvantages:**<br>\n",
    "The most significant disadvantage I can see in this code is the number of for loops that my implementation requires to carry my dot_product function. This method would exponentially add operations to the function depending on the size of the matrix, and it would be very slow operating on a large data set.\n"
   ]
  }
 ],
 "metadata": {
  "kernelspec": {
   "display_name": "Python 3 (ipykernel)",
   "language": "python",
   "name": "python3"
  },
  "language_info": {
   "codemirror_mode": {
    "name": "ipython",
    "version": 3
   },
   "file_extension": ".py",
   "mimetype": "text/x-python",
   "name": "python",
   "nbconvert_exporter": "python",
   "pygments_lexer": "ipython3",
   "version": "3.11.5"
  }
 },
 "nbformat": 4,
 "nbformat_minor": 2
}
