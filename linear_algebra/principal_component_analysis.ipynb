{
 "cells": [
  {
   "cell_type": "code",
   "execution_count": 61,
   "id": "b9341e5d",
   "metadata": {
    "pycharm": {
     "name": "#%%\n"
    }
   },
   "outputs": [],
   "source": [
    "import numpy as np\n",
    "import random as rand\n",
    "import matplotlib.pyplot as plt\n",
    "from sklearn.decomposition import PCA"
   ]
  },
  {
   "cell_type": "code",
   "execution_count": 63,
   "id": "f79f3c5d",
   "metadata": {
    "pycharm": {
     "name": "#%%\n"
    }
   },
   "outputs": [],
   "source": [
    "def line_from_vector(vector, x):\n",
    "    \"\"\"\n",
    "    AIM: Creates a list values from an entered vector. Used to plot \n",
    "         eigenvectors.\n",
    "    ARGUMENTS: An vector and a list of x values\n",
    "    ACTION: Calculates the slope of the line from the origin through the vector\n",
    "            and generates a list of y values based on the slope and the list of x values.\n",
    "    RETURN: A list of y values that can be used plot the line through a vector.\n",
    "    \n",
    "    \"\"\"\n",
    "    slope = vector[1] / vector[0]\n",
    "    vector_line = []\n",
    "    for point in x:\n",
    "        vector_line.append(point * slope)\n",
    "        \n",
    "    return np.asarray(vector_line)\n",
    "    "
   ]
  },
  {
   "cell_type": "markdown",
   "id": "2a096190",
   "metadata": {
    "pycharm": {
     "name": "#%% md\n"
    }
   },
   "source": [
    "### Test Data\n",
    "\n",
    "Test Data is generated in the cell below. I printed out and plotted this data to use as a reference during the task.\n"
   ]
  },
  {
   "cell_type": "code",
   "execution_count": null,
   "id": "252fc711",
   "metadata": {
    "pycharm": {
     "name": "#%%\n"
    }
   },
   "outputs": [],
   "source": [
    "a_x = 0.05\n",
    "a_y= 10"
   ]
  },
  {
   "cell_type": "code",
   "execution_count": 64,
   "id": "2896554b",
   "metadata": {
    "pycharm": {
     "name": "#%%\n"
    },
    "scrolled": true
   },
   "outputs": [
    {
     "name": "stdout",
     "output_type": "stream",
     "text": [
      "Original Data\n",
      "[[ 0.          2.80152052]\n",
      " [ 1.00858888  4.8228341 ]\n",
      " [ 1.9549756   7.31531481]\n",
      " [ 2.98495317  9.88255214]\n",
      " [ 4.02733751 16.89106503]\n",
      " [ 5.12043222 20.44282434]\n",
      " [ 6.02413809 22.84802352]\n",
      " [ 7.1668623  31.77183081]\n",
      " [ 8.15920599 29.84123263]\n",
      " [ 8.99983604 40.04059624]\n",
      " [10.21682247 35.20174849]\n",
      " [10.78017282 42.42181379]\n",
      " [12.12414518 43.98568972]\n",
      " [12.86403274 54.30121953]\n",
      " [13.93931846 51.41896686]\n",
      " [15.23992161 57.5348794 ]\n",
      " [16.38647843 67.47317171]\n",
      " [16.70512401 64.83289488]\n",
      " [18.23678258 68.21105857]\n",
      " [18.87640091 75.06446552]]\n"
     ]
    }
   ],
   "source": [
    "data =  np.array([[n*(1+a_x*(rand.random()-0.5)),4*n+ a_y*(rand.random()-0.5)] for n in range(20)])\n",
    "\n",
    "print(\"Original Data\")\n",
    "print(data)"
   ]
  },
  {
   "cell_type": "code",
   "execution_count": 65,
   "id": "a5a322aa",
   "metadata": {
    "pycharm": {
     "name": "#%%\n"
    }
   },
   "outputs": [
    {
     "data": {
      "text/plain": [
       "Text(0.5, 1.0, 'Original Data')"
      ]
     },
     "execution_count": 65,
     "metadata": {},
     "output_type": "execute_result"
    },
    {
     "data": {
      "image/png": "[encoded data removed]",
      "text/plain": [
       "<Figure size 432x288 with 1 Axes>"
      ]
     },
     "metadata": {
      "needs_background": "light"
     },
     "output_type": "display_data"
    }
   ],
   "source": [
    "# x, y = map(list, zip(*data))\n",
    "x, y = data.T\n",
    "fig, ax = plt.subplots()\n",
    "ax.scatter(x=x, y=y)\n",
    "ax.grid(True)\n",
    "plt.xlabel('X')\n",
    "plt.ylabel('Y')\n",
    "plt.title(\"Original Data\")"
   ]
  },
  {
   "cell_type": "markdown",
   "id": "8e331de4",
   "metadata": {
    "pycharm": {
     "name": "#%% md\n"
    }
   },
   "source": [
    "### PCA USing NumPy\n",
    "\n",
    "**Standardise**<br>\n",
    "The first step in a PCA is to standardise the data by subtracting the mean from each data point. Once this is complete, if we plot the data, we see that the data points are still in the same shape but on a much smaller scale. This is an essential step as if there is a significant difference between ranges in the initial variables, the variables with the more extensive ranges will dominate over the ones with smaller ranges, and the results will be biased. Standardising the data also moves the plot to be centred around the origin. <br>\n",
    "**Covariance Matrix**<br>\n",
    "Then the covariance matrix was calculated. The covariance matrix would be a two-by-two matrix for a data set with two dimensions. The covariance matrix is used to identify how elements in the data set correlate and help identify redundant information.<br>\n",
    "**Eigenvalues and Eigenvectors**<br>\n",
    "Eigenvalues and Eigenvectors are calculated from the covariance matrix. These are used to identify the principal components of the data. These components are uncorrelated, and most information is compressed into the first component. Most of the remaining information is put into the second component until all the information is accounted for; in this example, there are two components. Components with low amounts of information can be discarded with minimum loss to the data. Eigenvalues and Eigenvectors represent the components. The amount of information contained by an Eigenvectors is defined by its Eigenvalues. If a vector's Eigenvalue is significantly low, it can be discarded without much data loss.<br>\n",
    "**Projecting The Data**<br>\n",
    "The standardised data is then transformed with the Eigenvectors. This changes the information, so the axis represented by the Eigenvectors is now the x and y-axis, and the data is described in relation to the Eigenvectors.\n",
    "**Reverse transform**<br>\n",
    "To revert the data to the standardised form, the data is transformed with the transpose of the Eigenvectors or the inverse of the Eigenvectors. Then to turn the data back to the original, it is multiplied by the standard deviation, and the mean is added. There is no apparent data loss for a two-dimensional data set using two components. However, if a component were dropped to reduce the data set to one dimension, there would be data loss. \n",
    "\n",
    "\n"
   ]
  },
  {
   "cell_type": "code",
   "execution_count": 109,
   "id": "8d8f3abe",
   "metadata": {
    "pycharm": {
     "name": "#%%\n"
    }
   },
   "outputs": [],
   "source": [
    "# The mean of each dimension of the test data was calculated.\n",
    "data_mean = np.mean(data.T, axis=1)\n",
    "data_std_dev = np.std(data.T, axis=1)\n",
    "\n",
    "# The data was standardized by subtracting the mean from each data point.\n",
    "standardized_data = (data - data_mean) / data_std_dev\n",
    "\n",
    "# Calculated from the standardized data. Results in a two by two matrix.\n",
    "covariance_matrix = np.cov(standardized_data.T)\n",
    "\n",
    "# Eigenvalues and Eigenvectors calculated from the covariance matrix\n",
    "eig_values, eig_vectors = np.linalg.eig(covariance_matrix)\n",
    "\n",
    "# The projected data is created by transforming the Eigenvectors with the standardized data.\n",
    "projected_data = eig_vectors.dot(standardized_data.T)\n",
    "\n",
    "# The data is converted back to the standardized data by transforming the transpose of \n",
    "# Eigenvectors with the projected data.\n",
    "reverse_transform = eig_vectors.T.dot(projected_data)\n",
    "\n",
    "# The data is converted back to its original form by adding the mean back onto each data point.\n",
    "original_data = (reverse_transform.T * data_std_dev) + data_mean"
   ]
  },
  {
   "cell_type": "code",
   "execution_count": 110,
   "id": "da71fcb4",
   "metadata": {
    "pycharm": {
     "name": "#%%\n"
    }
   },
   "outputs": [
    {
     "name": "stdout",
     "output_type": "stream",
     "text": [
      "Mean:\n",
      "[ 9.54077645 37.35518513] \n",
      "\n",
      "\n",
      "data_std_dev:\n",
      "[ 5.7749163  22.27352884] \n",
      "\n",
      "\n",
      "Covariance Matrix:\n",
      "[[1.05263158 1.04526242]\n",
      " [1.04526242 1.05263158]] \n",
      "\n",
      "\n",
      "Eigenvalues:\n",
      "[0.00736916 2.097894  ] \n",
      "\n",
      "\n",
      "Eigenvectors:\n",
      "[[-0.70710678 -0.70710678]\n",
      " [ 0.70710678 -0.70710678]] \n",
      "\n",
      "\n"
     ]
    }
   ],
   "source": [
    "print(\"Mean:\")\n",
    "print(data_mean, \"\\n\\n\")\n",
    "print(\"data_std_dev:\")\n",
    "print(data_std_dev, \"\\n\\n\")\n",
    "print(\"Covariance Matrix:\")\n",
    "print(covariance_matrix, \"\\n\\n\")\n",
    "print(\"Eigenvalues:\")\n",
    "print(eig_values, \"\\n\\n\")\n",
    "print(\"Eigenvectors:\")\n",
    "print(eig_vectors, \"\\n\\n\")"
   ]
  },
  {
   "cell_type": "markdown",
   "id": "1c5fd4a5",
   "metadata": {
    "pycharm": {
     "name": "#%% md\n"
    }
   },
   "source": [
    "**Standardized Data Figure**<br>\n",
    "This figure shows the data after standardisation, which is compressed but still in the same shape as the original data. The Eigenvectors have also been plotted through this chart and can be seen as almost orthogonal."
   ]
  },
  {
   "cell_type": "code",
   "execution_count": 111,
   "id": "d20ca3e9",
   "metadata": {
    "pycharm": {
     "name": "#%%\n"
    }
   },
   "outputs": [
    {
     "data": {
      "text/plain": [
       "Text(0.5, 1.0, 'Standardized Data')"
      ]
     },
     "execution_count": 111,
     "metadata": {},
     "output_type": "execute_result"
    },
    {
     "data": {
      "image/png": "[encoded data removed]",
      "text/plain": [
       "<Figure size 432x288 with 1 Axes>"
      ]
     },
     "metadata": {
      "needs_background": "light"
     },
     "output_type": "display_data"
    }
   ],
   "source": [
    "x, y = standardized_data.T\n",
    "\n",
    "v1 = line_from_vector(eig_vectors[0], x)\n",
    "v2 = line_from_vector(eig_vectors[1], x)\n",
    "\n",
    "fig, ax = plt.subplots()\n",
    "ax.scatter(x=x, y=y)\n",
    "ax.plot(x, v1, 'r')\n",
    "ax.plot(x, v2, 'g')\n",
    "ax.grid(True)\n",
    "plt.xlabel('X')\n",
    "plt.ylabel('Y')\n",
    "plt.title(\"Standardized Data\")"
   ]
  },
  {
   "cell_type": "markdown",
   "id": "bd22b6d8",
   "metadata": {
    "pycharm": {
     "name": "#%% md\n"
    }
   },
   "source": [
    "**Projected from  Eigenvectors**<br>\n",
    "This figure shows the result of transforming the standardised data with the Eigenvectors. The data is compressed and centred around the axis of the two Eigenvectors"
   ]
  },
  {
   "cell_type": "code",
   "execution_count": 112,
   "id": "f899ddc6",
   "metadata": {
    "pycharm": {
     "name": "#%%\n"
    }
   },
   "outputs": [
    {
     "data": {
      "text/plain": [
       "Text(0.5, 1.0, 'Projected from  Eigenvectors')"
      ]
     },
     "execution_count": 112,
     "metadata": {},
     "output_type": "execute_result"
    },
    {
     "data": {
      "image/png": "[encoded data removed]",
      "text/plain": [
       "<Figure size 432x288 with 1 Axes>"
      ]
     },
     "metadata": {
      "needs_background": "light"
     },
     "output_type": "display_data"
    }
   ],
   "source": [
    "x, y = projected_data\n",
    "\n",
    "fig, ax = plt.subplots()\n",
    "ax.scatter(x=x, y=y)\n",
    "ax.grid(True)\n",
    "plt.xlabel('X')\n",
    "plt.ylabel('Y')\n",
    "plt.title(\"Projected from  Eigenvectors\")"
   ]
  },
  {
   "cell_type": "markdown",
   "id": "674ea2cd",
   "metadata": {
    "pycharm": {
     "name": "#%% md\n"
    }
   },
   "source": [
    "**Data returned to original form**<br>\n",
    "This figure shows the data reverted to its original form."
   ]
  },
  {
   "cell_type": "code",
   "execution_count": 113,
   "id": "db1f2a17",
   "metadata": {
    "pycharm": {
     "name": "#%%\n"
    }
   },
   "outputs": [
    {
     "data": {
      "text/plain": [
       "Text(0.5, 1.0, 'Data returned to original form')"
      ]
     },
     "execution_count": 113,
     "metadata": {},
     "output_type": "execute_result"
    },
    {
     "data": {
      "image/png": "[encoded data removed]",
      "text/plain": [
       "<Figure size 432x288 with 1 Axes>"
      ]
     },
     "metadata": {
      "needs_background": "light"
     },
     "output_type": "display_data"
    }
   ],
   "source": [
    "x, y = original_data.T\n",
    "\n",
    "fig, ax = plt.subplots()\n",
    "ax.scatter(x=x, y=y)\n",
    "ax.grid(True)\n",
    "plt.xlabel('X')\n",
    "plt.ylabel('Y')\n",
    "plt.title(\"Data returned to original form\")"
   ]
  },
  {
   "cell_type": "markdown",
   "id": "ccb088f3",
   "metadata": {
    "pycharm": {
     "name": "#%% md\n"
    }
   },
   "source": [
    "### Print Out of Data at Each Step"
   ]
  },
  {
   "cell_type": "code",
   "execution_count": 115,
   "id": "b5f5e8c6",
   "metadata": {
    "pycharm": {
     "name": "#%%\n"
    }
   },
   "outputs": [
    {
     "name": "stdout",
     "output_type": "stream",
     "text": [
      "Standardized data (data - mean) / std_dev:\n",
      "[[-1.65210645 -1.55133319]\n",
      " [-1.47745649 -1.4605836 ]\n",
      " [-1.31357763 -1.34868033]\n",
      " [-1.13522395 -1.23342077]\n",
      " [-0.95472188 -0.91876416]\n",
      " [-0.76543867 -0.75930316]\n",
      " [-0.60895053 -0.65131851]\n",
      " [-0.41107334 -0.25067219]\n",
      " [-0.23923645 -0.33734899]\n",
      " [-0.09367069  0.12056514]\n",
      " [ 0.11706594 -0.09668143]\n",
      " [ 0.2146172   0.2274731 ]\n",
      " [ 0.44734306  0.29768541]\n",
      " [ 0.57546397  0.76081498]\n",
      " [ 0.76166334  0.63141237]\n",
      " [ 0.98687927  0.90599448]\n",
      " [ 1.18542012  1.35218747]\n",
      " [ 1.24059764  1.23364869]\n",
      " [ 1.50582375  1.38531589]\n",
      " [ 1.61658178  1.6930088 ]] \n",
      "\n",
      "\n",
      "Data projection after transform with Eigenvectors:\n",
      "[[ 2.26517389 -0.07125745]\n",
      " [ 2.07750807 -0.01193093]\n",
      " [ 1.88250066  0.02482136]\n",
      " [ 1.67488474  0.06943564]\n",
      " [ 1.32475468 -0.02542594]\n",
      " [ 1.07815528 -0.00433846]\n",
      " [ 0.89114479  0.02995868]\n",
      " [ 0.46792476 -0.11342074]\n",
      " [ 0.40770747  0.06937605]\n",
      " [-0.01901725 -0.15148761]\n",
      " [-0.01441403  0.15114222]\n",
      " [-0.31260505 -0.00909049]\n",
      " [-0.52681468  0.10582394]\n",
      " [-0.94489191 -0.13106295]\n",
      " [-0.98505328  0.09210134]\n",
      " [-1.33846386  0.05719418]\n",
      " [-1.79435953 -0.11792232]\n",
      " [-1.74955636  0.00491365]\n",
      " [-2.04434445  0.08521193]\n",
      " [-2.34023394 -0.05404207]] \n",
      "\n",
      "\n",
      "Data returned to standardized form, transformed with transpose of Eigenvectors:\n",
      "[[-1.65210645 -1.55133319]\n",
      " [-1.47745649 -1.4605836 ]\n",
      " [-1.31357763 -1.34868033]\n",
      " [-1.13522395 -1.23342077]\n",
      " [-0.95472188 -0.91876416]\n",
      " [-0.76543867 -0.75930316]\n",
      " [-0.60895053 -0.65131851]\n",
      " [-0.41107334 -0.25067219]\n",
      " [-0.23923645 -0.33734899]\n",
      " [-0.09367069  0.12056514]\n",
      " [ 0.11706594 -0.09668143]\n",
      " [ 0.2146172   0.2274731 ]\n",
      " [ 0.44734306  0.29768541]\n",
      " [ 0.57546397  0.76081498]\n",
      " [ 0.76166334  0.63141237]\n",
      " [ 0.98687927  0.90599448]\n",
      " [ 1.18542012  1.35218747]\n",
      " [ 1.24059764  1.23364869]\n",
      " [ 1.50582375  1.38531589]\n",
      " [ 1.61658178  1.6930088 ]] \n",
      "\n",
      "\n",
      "Data returned to original form after standardized form (data * std_dev) + mean:\n",
      "[[1.77635684e-15 2.80152052e+00]\n",
      " [1.00858888e+00 4.82283410e+00]\n",
      " [1.95497560e+00 7.31531481e+00]\n",
      " [2.98495317e+00 9.88255214e+00]\n",
      " [4.02733751e+00 1.68910650e+01]\n",
      " [5.12043222e+00 2.04428243e+01]\n",
      " [6.02413809e+00 2.28480235e+01]\n",
      " [7.16686230e+00 3.17718308e+01]\n",
      " [8.15920599e+00 2.98412326e+01]\n",
      " [8.99983604e+00 4.00405962e+01]\n",
      " [1.02168225e+01 3.52017485e+01]\n",
      " [1.07801728e+01 4.24218138e+01]\n",
      " [1.21241452e+01 4.39856897e+01]\n",
      " [1.28640327e+01 5.43012195e+01]\n",
      " [1.39393185e+01 5.14189669e+01]\n",
      " [1.52399216e+01 5.75348794e+01]\n",
      " [1.63864784e+01 6.74731717e+01]\n",
      " [1.67051240e+01 6.48328949e+01]\n",
      " [1.82367826e+01 6.82110586e+01]\n",
      " [1.88764009e+01 7.50644655e+01]]\n"
     ]
    }
   ],
   "source": [
    "print(\"Standardized data (data - mean) / std_dev:\")\n",
    "print(standardized_data, \"\\n\\n\")\n",
    "print(\"Data projection after transform with Eigenvectors:\")\n",
    "print(projected_data.T, \"\\n\\n\")\n",
    "print(\"Data returned to standardized form, transformed with transpose of Eigenvectors:\")\n",
    "print(reverse_transform.T, \"\\n\\n\")\n",
    "print(\"Data returned to original form after standardized form (data * std_dev) + mean:\")\n",
    "print(original_data)"
   ]
  },
  {
   "cell_type": "markdown",
   "id": "699426e3",
   "metadata": {
    "pycharm": {
     "name": "#%% md\n"
    }
   },
   "source": [
    "### PCA with scikit-learn"
   ]
  },
  {
   "cell_type": "markdown",
   "id": "8300c4f4",
   "metadata": {
    "pycharm": {
     "name": "#%% md\n"
    }
   },
   "source": [
    "The same process was carried out with scikit-learn. In this case, a PCA class can be used to do the work for us. When the PCA class is initialised, the number of components required can be specified. For the first case, I chose two. The fit method is used to standardise the data, and Eigenvectors and Eigenvalues can be accessed using the 'components_' and 'explained_variance_' properties. The data is transformed using the transform method, which can be reverted to its original form using the inverse_transform method."
   ]
  },
  {
   "cell_type": "code",
   "execution_count": 119,
   "id": "a713ee7a",
   "metadata": {
    "pycharm": {
     "name": "#%%\n"
    },
    "scrolled": true
   },
   "outputs": [],
   "source": [
    "# PCA class initialised with 2 components selected.\n",
    "pca_two_components = PCA(n_components=2)\n",
    "\n",
    "# Fit method called to standardise the data.\n",
    "pca_two_components.fit(data)\n",
    "\n",
    "# I wasn't able to access the standardised data from the fit class so calculated it by subtracting\n",
    "# the mean from the data. Sikit learn does not seem to divide by the standard deviation when standardising its data.\n",
    "standardized_data_sikit = (data - pca_two_components.mean_)\n",
    "\n",
    "# Eigenvectors and Eigenvalues accessed from class attributes.\n",
    "eig_vectors_sikit = pca_two_components.components_\n",
    "eig_values_sikit = pca_two_components.explained_variance_\n",
    "\n",
    "# Data is transformed.\n",
    "x_transformed_two_components = pca_two_components.transform(data)\n",
    "\n",
    "# Data is reverted to original form.\n",
    "x_inverse_transformed_two_components = pca_two_components.inverse_transform(x_transformed_two_components)"
   ]
  },
  {
   "cell_type": "code",
   "execution_count": 120,
   "id": "60adb999",
   "metadata": {
    "pycharm": {
     "name": "#%%\n"
    }
   },
   "outputs": [
    {
     "name": "stdout",
     "output_type": "stream",
     "text": [
      "Eigenvectors:\n",
      "[[ 0.2495327   0.96836637]\n",
      " [-0.96836637  0.2495327 ]] \n",
      "\n",
      "\n",
      "Eigenvalues:\n",
      "[5.56866723e+02 4.59324716e-01]\n"
     ]
    }
   ],
   "source": [
    "print(\"Eigenvectors:\")\n",
    "print(eig_vectors_sikit, \"\\n\\n\")\n",
    "print(\"Eigenvalues:\")\n",
    "print(eig_values_sikit)"
   ]
  },
  {
   "cell_type": "markdown",
   "id": "d018cc32",
   "metadata": {
    "pycharm": {
     "name": "#%% md\n"
    }
   },
   "source": [
    "**Standardized Data Figure**<br>\n",
    "I think sikit learn does not divide by the mean, as this graph is the same as the results I got for PCA with NumPy before I started dividing by the standard deviation. If I standardise the data by dividing by the standard deviation, the data does not match up with the Eigenvectors."
   ]
  },
  {
   "cell_type": "code",
   "execution_count": 121,
   "id": "b7aac40c",
   "metadata": {
    "pycharm": {
     "name": "#%%\n"
    }
   },
   "outputs": [
    {
     "data": {
      "text/plain": [
       "Text(0.5, 1.0, 'Standardized Data')"
      ]
     },
     "execution_count": 121,
     "metadata": {},
     "output_type": "execute_result"
    },
    {
     "data": {
      "image/png": "[encoded data removed]",
      "text/plain": [
       "<Figure size 432x288 with 1 Axes>"
      ]
     },
     "metadata": {
      "needs_background": "light"
     },
     "output_type": "display_data"
    }
   ],
   "source": [
    "x, y = standardized_data_sikit.T\n",
    "\n",
    "v1 = line_from_vector(eig_vectors_sikit[0], x)\n",
    "v2 = line_from_vector(eig_vectors_sikit[1], x)\n",
    "\n",
    "fig, ax = plt.subplots()\n",
    "ax.scatter(x=x, y=y)\n",
    "ax.plot(x, v1, 'r')\n",
    "ax.plot(x, v2, 'g')\n",
    "ax.grid(True)\n",
    "plt.xlabel('X')\n",
    "plt.ylabel('Y')\n",
    "plt.title(\"Standardized Data\")"
   ]
  },
  {
   "cell_type": "markdown",
   "id": "d003af72",
   "metadata": {
    "pycharm": {
     "name": "#%% md\n"
    }
   },
   "source": [
    "**Projected from  Eigenvectors**<br>\n",
    "This figure shows the result of transforming the standardised data with the Eigenvectors. The data is compressed and centred around the axis of the two Eigenvectors"
   ]
  },
  {
   "cell_type": "code",
   "execution_count": 58,
   "id": "500da76c",
   "metadata": {
    "pycharm": {
     "name": "#%%\n"
    }
   },
   "outputs": [
    {
     "data": {
      "text/plain": [
       "Text(0.5, 1.0, 'Data after Transform')"
      ]
     },
     "execution_count": 58,
     "metadata": {},
     "output_type": "execute_result"
    },
    {
     "data": {
      "image/png": "[encoded data removed]",
      "text/plain": [
       "<Figure size 432x288 with 1 Axes>"
      ]
     },
     "metadata": {
      "needs_background": "light"
     },
     "output_type": "display_data"
    }
   ],
   "source": [
    "x, y = x_transformed_two_components.T\n",
    "fig, ax = plt.subplots()\n",
    "ax.scatter(x=x, y=y)\n",
    "ax.grid(True)\n",
    "plt.xlabel('X')\n",
    "plt.ylabel('Y')\n",
    "plt.title(\"Data after Transform\")"
   ]
  },
  {
   "cell_type": "markdown",
   "id": "8c1f06b2",
   "metadata": {
    "pycharm": {
     "name": "#%% md\n"
    }
   },
   "source": [
    "**Data returned to original form**<br>\n",
    "This figure shows the data reverted to its original form."
   ]
  },
  {
   "cell_type": "code",
   "execution_count": 59,
   "id": "08b27928",
   "metadata": {
    "pycharm": {
     "name": "#%%\n"
    }
   },
   "outputs": [
    {
     "data": {
      "text/plain": [
       "Text(0.5, 1.0, 'Data returned to original Form')"
      ]
     },
     "execution_count": 59,
     "metadata": {},
     "output_type": "execute_result"
    },
    {
     "data": {
      "image/png": "[encoded data removed]",
      "text/plain": [
       "<Figure size 432x288 with 1 Axes>"
      ]
     },
     "metadata": {
      "needs_background": "light"
     },
     "output_type": "display_data"
    }
   ],
   "source": [
    "# x, y = map(list, zip(*data))\n",
    "x, y = x_inverse_transformed_two_components.T\n",
    "fig, ax = plt.subplots()\n",
    "ax.scatter(x=x, y=y)\n",
    "ax.grid(True)\n",
    "plt.xlabel('X')\n",
    "plt.ylabel('Y')\n",
    "plt.title(\"Data returned to original Form\")"
   ]
  },
  {
   "cell_type": "markdown",
   "id": "a3248a94",
   "metadata": {
    "pycharm": {
     "name": "#%% md\n"
    }
   },
   "source": [
    "### Print Out of Data at Each Step"
   ]
  },
  {
   "cell_type": "code",
   "execution_count": 60,
   "id": "1d262996",
   "metadata": {
    "pycharm": {
     "name": "#%%\n"
    }
   },
   "outputs": [
    {
     "name": "stdout",
     "output_type": "stream",
     "text": [
      "[[ -9.52966988 -34.71893743]\n",
      " [ -8.5185925  -30.62118003]\n",
      " [ -7.56919968 -33.5972218 ]\n",
      " [ -6.46912523 -23.20807545]\n",
      " [ -5.44618955 -19.41203243]\n",
      " [ -4.56464959 -18.81324525]\n",
      " [ -3.48044061 -18.46918323]\n",
      " [ -2.39304038  -6.70417798]\n",
      " [ -1.4966896   -5.62943274]\n",
      " [ -0.35539769  -4.93025396]\n",
      " [  0.32230379  -2.77067744]\n",
      " [  1.58910109   7.61751858]\n",
      " [  2.28947704   9.93842623]\n",
      " [  3.77074873  14.94336609]\n",
      " [  4.58579782  13.24256058]\n",
      " [  5.28886949  18.1791736 ]\n",
      " [  6.33906478  26.87813821]\n",
      " [  7.46253663  32.63603648]\n",
      " [  8.38307543  32.93663184]\n",
      " [  9.79201991  42.50256617]]\n",
      "\n",
      "\n",
      "\n",
      "[[-3.59932403e+01 -8.40164272e-01]\n",
      " [-3.17726042e+01 -8.51297343e-01]\n",
      " [-3.44302393e+01  7.90393014e-01]\n",
      " [-2.40838508e+01 -6.57630360e-01]\n",
      " [-2.01530813e+01 -5.84208377e-01]\n",
      " [-1.93586754e+01  1.26128287e-01]\n",
      " [-1.87623469e+01  1.09477684e+00]\n",
      " [-7.08410328e+00 -6.98659702e-01]\n",
      " [-5.82431438e+00 -8.91894610e-02]\n",
      " [-4.86961401e+00  8.48864577e-01]\n",
      " [-2.61020846e+00  9.83536966e-01]\n",
      " [ 7.77562403e+00 -3.02493874e-01]\n",
      " [ 1.01970505e+01 -1.84882306e-01]\n",
      " [ 1.54117193e+01  4.05470415e-02]\n",
      " [ 1.39588525e+01  1.24313693e+00]\n",
      " [ 1.89188134e+01  7.30062555e-01]\n",
      " [ 2.76132307e+01 -3.57137635e-01]\n",
      " [ 3.34718268e+01 -6.61165212e-01]\n",
      " [ 3.39863550e+01  1.59206674e-01]\n",
      " [ 4.36088060e+01 -7.89824338e-01]]\n",
      "\n",
      "\n",
      "\n",
      "[[ 0.          3.64757088]\n",
      " [ 1.01107738  7.74532829]\n",
      " [ 1.9604702   4.76928652]\n",
      " [ 3.06054465 15.15843287]\n",
      " [ 4.08348032 18.95447589]\n",
      " [ 4.96502029 19.55326307]\n",
      " [ 6.04922927 19.89732508]\n",
      " [ 7.1366295  31.66233034]\n",
      " [ 8.03298028 32.73707558]\n",
      " [ 9.17427219 33.43625436]\n",
      " [ 9.85197366 35.59583088]\n",
      " [11.11877097 45.9840269 ]\n",
      " [11.81914692 48.30493455]\n",
      " [13.30041861 53.30987441]\n",
      " [14.1154677  51.6090689 ]\n",
      " [14.81853937 56.54568192]\n",
      " [15.86873466 65.24464653]\n",
      " [16.99220651 71.0025448 ]\n",
      " [17.91274531 71.30314016]\n",
      " [19.32168979 80.86907449]]\n"
     ]
    }
   ],
   "source": [
    "print(standardized_data_sikit)\n",
    "print(\"\\n\\n\")\n",
    "print(x_transformed_two_components)\n",
    "print(\"\\n\\n\")\n",
    "print(x_inverse_transformed_two_components)"
   ]
  },
  {
   "cell_type": "markdown",
   "id": "be7a8c32",
   "metadata": {
    "pycharm": {
     "name": "#%% md\n"
    }
   },
   "source": [
    "### PCA with scikit-learn with one component.\n",
    "The process was carried out again with one component. This time we can see that there is a data loss when the data is transformed back to its original form. \n"
   ]
  },
  {
   "cell_type": "code",
   "execution_count": 122,
   "id": "93830067",
   "metadata": {
    "pycharm": {
     "name": "#%%\n"
    }
   },
   "outputs": [
    {
     "name": "stdout",
     "output_type": "stream",
     "text": [
      "Eigenvector:\n",
      "[[0.2495327  0.96836637]] \n",
      "\n",
      "\n",
      "Eigenvalue:\n",
      "[556.86672294]\n"
     ]
    }
   ],
   "source": [
    "# PCA class initialised with 1 component selected.\n",
    "pca_one_component = PCA(n_components=1)\n",
    "\n",
    "# Fit method called to standardise the data.\n",
    "pca_one_component.fit(data)\n",
    "\n",
    "print(\"Eigenvector:\")\n",
    "print(pca_one_component.components_, \"\\n\\n\")\n",
    "print(\"Eigenvalue:\")\n",
    "print(pca_one_component.explained_variance_)\n",
    "\n",
    "# Data is transformed.\n",
    "x_transformed_one_component = pca_one_component.transform(data)\n",
    "\n",
    "# Data is reverted to original form.\n",
    "x_inverse_transformed_one_component = pca_one_component.inverse_transform(x_transformed_one_component)"
   ]
  },
  {
   "cell_type": "code",
   "execution_count": 123,
   "id": "3e0b9ded",
   "metadata": {
    "pycharm": {
     "name": "#%%\n"
    },
    "scrolled": true
   },
   "outputs": [
    {
     "name": "stdout",
     "output_type": "stream",
     "text": [
      "[[-35.84134257]\n",
      " [-33.63229456]\n",
      " [-30.98250562]\n",
      " [-28.23946624]\n",
      " [-21.19254905]\n",
      " [-17.4803819 ]\n",
      " [-14.92576373]\n",
      " [ -5.99910177]\n",
      " [ -7.62100594]\n",
      " [  2.4654795 ]\n",
      " [ -1.91662004]\n",
      " [  5.21562273]\n",
      " [  7.06539265]\n",
      " [ 17.23923098]\n",
      " [ 14.71647336]\n",
      " [ 20.96346042]\n",
      " [ 30.87347192]\n",
      " [ 28.39622911]\n",
      " [ 32.04972812]\n",
      " [ 38.84594264]]\n",
      "\n",
      "\n",
      "\n",
      "[[ 0.59718954  2.64763422]\n",
      " [ 1.14841925  4.78680203]\n",
      " [ 1.80962823  7.35276853]\n",
      " [ 2.49410625 10.00903563]\n",
      " [ 4.25254251 16.83303327]\n",
      " [ 5.17884959 20.42777111]\n",
      " [ 5.81631036 22.90157744]\n",
      " [ 8.0438044  31.54585671]\n",
      " [ 7.63908628 29.97525926]\n",
      " [10.1559942  39.74267257]\n",
      " [ 9.06251708 35.49919473]\n",
      " [10.84224486 42.4058188 ]\n",
      " [11.30382294 44.19707379]\n",
      " [13.84252827 54.04907671]\n",
      " [13.21301776 51.60612307]\n",
      " [14.77184529 57.65549527]\n",
      " [17.2447172  67.25201716]\n",
      " [16.62656412 64.85313853]\n",
      " [17.53823158 68.39106412]\n",
      " [19.23410933 74.97228972]]\n"
     ]
    }
   ],
   "source": [
    "print(x_transformed_one_component)\n",
    "print(\"\\n\\n\")\n",
    "print(x_inverse_transformed_one_component)"
   ]
  },
  {
   "cell_type": "markdown",
   "id": "2173ec63",
   "metadata": {
    "pycharm": {
     "name": "#%% md\n"
    }
   },
   "source": [
    "**Comparison Between Original Data and Data After Transform**<br>\n",
    "In the figure below, we see the original data in blue and the data after it has been reverted to its original form is in red. Because a component was dropped, there was data loss."
   ]
  },
  {
   "cell_type": "code",
   "execution_count": 28,
   "id": "9fab0c91",
   "metadata": {
    "pycharm": {
     "name": "#%%\n"
    }
   },
   "outputs": [
    {
     "data": {
      "text/plain": [
       "Text(0.5, 1.0, 'Comparison of data from one and two components')"
      ]
     },
     "execution_count": 28,
     "metadata": {},
     "output_type": "execute_result"
    },
    {
     "data": {
      "image/png": "[encoded data removed]",
      "text/plain": [
       "<Figure size 432x288 with 1 Axes>"
      ]
     },
     "metadata": {
      "needs_background": "light"
     },
     "output_type": "display_data"
    }
   ],
   "source": [
    "# x, y = map(list, zip(*data))\n",
    "x, y = x_inverse_transformed_two_components.T\n",
    "i, j = x_inverse_transformed_one_component.T\n",
    "fig, ax = plt.subplots()\n",
    "ax.scatter(x=x, y=y)\n",
    "ax.scatter(x=i, y=j, color='r')\n",
    "ax.grid(True)\n",
    "plt.xlabel('X')\n",
    "plt.ylabel('Y')\n",
    "plt.title(\"Comparison of data from one and two components\")"
   ]
  }
 ],
 "metadata": {
  "kernelspec": {
   "display_name": "Python 3 (ipykernel)",
   "language": "python",
   "name": "python3"
  },
  "language_info": {
   "codemirror_mode": {
    "name": "ipython",
    "version": 3
   },
   "file_extension": ".py",
   "mimetype": "text/x-python",
   "name": "python",
   "nbconvert_exporter": "python",
   "pygments_lexer": "ipython3",
   "version": "3.11.5"
  }
 },
 "nbformat": 4,
 "nbformat_minor": 5
}
